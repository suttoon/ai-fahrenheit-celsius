{
  "nbformat": 4,
  "nbformat_minor": 0,
  "metadata": {
    "colab": {
      "provenance": []
    },
    "kernelspec": {
      "name": "python3",
      "display_name": "Python 3"
    },
    "language_info": {
      "name": "python"
    }
  },
  "cells": [
    {
      "cell_type": "code",
      "source": [
        "\"\"\"\n",
        "This code implements a deep neural network model using TensorFlow, a\n",
        "popular library for machine learning. The purpose of the model is to learn\n",
        "the relationship between temperatures in degrees Celsius and Fahrenheit.\n",
        "To achieve this, the code employs a deep neural network composed of\n",
        "several hidden layers.\n",
        "\"\"\""
      ],
      "metadata": {
        "id": "5pORGLUIwRPB"
      },
      "execution_count": null,
      "outputs": []
    },
    {
      "cell_type": "code",
      "execution_count": 11,
      "metadata": {
        "id": "OmjCRK2Bt9M-"
      },
      "outputs": [],
      "source": [
        "import tensorflow as tf\n",
        "import numpy as np"
      ]
    },
    {
      "cell_type": "code",
      "source": [
        "# Training data\n",
        "celsius = np.array([-40, -10, 0, 8, 15, 22, 38], dtype=float)\n",
        "fahrenheit = np.array([-40, 13, 32, 46, 59, 72, 100], dtype=float)"
      ],
      "metadata": {
        "id": "L3ZdvCYduSC7"
      },
      "execution_count": 12,
      "outputs": []
    },
    {
      "cell_type": "code",
      "source": [
        "# Neural network configuration\n",
        "hidden1 = tf.keras.layers.Dense(units=3, input_shape=[1])\n",
        "hidden2 = tf.keras.layers.Dense(units=4)\n",
        "hidden3 = tf.keras.layers.Dense(units=5)\n",
        "hidden4 = tf.keras.layers.Dense(units=4)\n",
        "hidden5 = tf.keras.layers.Dense(units=3)\n",
        "exit = tf.keras.layers.Dense(units=1)\n",
        "model = tf.keras.Sequential([hidden1, hidden2, hidden3, hidden4, hidden5, exit])"
      ],
      "metadata": {
        "id": "Qn_FFPmDuS6L"
      },
      "execution_count": 13,
      "outputs": []
    },
    {
      "cell_type": "code",
      "source": [
        "# Model compilation\n",
        "model.compile(\n",
        "    optimizer=tf.keras.optimizers.Adam(0.1),\n",
        "    loss='mean_squared_error'\n",
        ")"
      ],
      "metadata": {
        "id": "R2AhCKjauW9W"
      },
      "execution_count": 14,
      "outputs": []
    },
    {
      "cell_type": "code",
      "source": [
        "# Training process\n",
        "print(\"Training...\")\n",
        "nztm = model.fit(celsius, fahrenheit, epochs=3000, verbose=False)\n",
        "print(\"Trained!\")"
      ],
      "metadata": {
        "id": "WBXAihpRuZX5"
      },
      "execution_count": null,
      "outputs": []
    },
    {
      "cell_type": "code",
      "source": [
        "# Loss visualization during training\n",
        "import matplotlib.pyplot as plt\n",
        "plt.xlabel(\"# Epoch\")\n",
        "plt.ylabel(\"# Lost magnitude\")\n",
        "plt.plot(nztm.history[\"loss\"])"
      ],
      "metadata": {
        "id": "rXR26KJpucwa",
        "colab": {
          "base_uri": "https://localhost:8080/",
          "height": 466
        },
        "outputId": "146ec5c1-4a66-47c9-de7d-e6bb96a808cf"
      },
      "execution_count": 17,
      "outputs": [
        {
          "output_type": "execute_result",
          "data": {
            "text/plain": [
              "[<matplotlib.lines.Line2D at 0x7b2f7431d570>]"
            ]
          },
          "metadata": {},
          "execution_count": 17
        },
        {
          "output_type": "display_data",
          "data": {
            "text/plain": [
              "<Figure size 640x480 with 1 Axes>"
            ],
            "image/png": "[encoded data removed]"
          },
          "metadata": {}
        }
      ]
    },
    {
      "cell_type": "code",
      "source": [
        "# Prediction based on user input\n",
        "data = float(input(\"Enter the degrees Celsius to convert: \"))\n",
        "\n",
        "print(\"Let's make a prediction!\")\n",
        "result = model.predict([[data]])\n",
        "print(\"The result is \" +  str(result) + \" fahrenheit!\")"
      ],
      "metadata": {
        "colab": {
          "base_uri": "https://localhost:8080/",
          "height": 0
        },
        "id": "xIkEZiPcue2y",
        "outputId": "3108416f-f7cf-4b06-80df-414943acb1f7"
      },
      "execution_count": 18,
      "outputs": [
        {
          "output_type": "stream",
          "name": "stdout",
          "text": [
            "Enter the degrees Celsius to convert: 100\n",
            "Let's make a prediction!\n",
            "1/1 [==============================] - 0s 103ms/step\n",
            "The result is [[212.30501]] fahrenheit!\n"
          ]
        }
      ]
    }
  ]
}